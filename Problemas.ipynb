{
 "cells": [
  {
   "cell_type": "markdown",
   "metadata": {},
   "source": [
    "# Problemas Primer Parcial"
   ]
  },
  {
   "cell_type": "markdown",
   "metadata": {},
   "source": [
    "## Problema 1"
   ]
  },
  {
   "cell_type": "markdown",
   "metadata": {},
   "source": [
    "Se sabe que el aire frío se siente mucha más frío cuando hace viento, que lo que indica el termómetro; eso se debe al \"efecto frigorífico\" del viento, el cuál está asociado al aumento en el coeficiente de transferencia de calor por convección al aumentar la velocidad del aire. La temperatura equivale por enfriamiento de viento, en °F, se determina con la ecuación: $$T_{equiv}=91.4-(91.4-T_{ambiente})\\times0.475-0.0203V+0.304\\sqrt{V}$$\n",
    "donde $V$ es la velocidad del viento, en mi/h, y $T_{ambiente}$ la temperatura del aire ambiente, en °F. Se supone que el aire ambiente es inmóvil cuando los vientos son ligeros, hasta 4 mi/h. La constante 91.4 °F en esta ecuación es la temperatura promedio de la piel de una persona en reposo, en un mabiente confortable. La temperatura equivalente con aire a $T_{ambiente}$, en movimiento a la velocidad $V$, se sentirá como si el aire estuviera a la temperatura $T_{equiv}$.\n",
    "\n",
    "Aplique los factores de conversión adecuados para obtener una ecuación equivalente en unidades SI, donde $V$ sea la velocidad del viento, en km/h, y $T_{ambiente}$ sea la temperatura del aire ambiente en °C. Gráfique las temperatura equivalente por enfriamiento de viento, en °F y °C, en función de la velocidad del viento, entre los límites de 4 a 40 mi/h y sus correspondientes km/h, para las temperaturas ambiente de 20, 40 y 60 °F. Describa los resultados. "
   ]
  },
  {
   "cell_type": "markdown",
   "metadata": {},
   "source": [
    "Importación de librerias"
   ]
  },
  {
   "cell_type": "code",
   "execution_count": 69,
   "metadata": {},
   "outputs": [],
   "source": [
    "import numpy as np\n",
    "import matplotlib.pyplot as plt"
   ]
  },
  {
   "cell_type": "markdown",
   "metadata": {},
   "source": [
    "Valores de temperaturas y velocidades"
   ]
  },
  {
   "cell_type": "code",
   "execution_count": 70,
   "metadata": {},
   "outputs": [],
   "source": [
    "Temperaturas = np.array([20, 40, 60]) #°F\n",
    "Velocidades = np.arange(4,40) #mi/h"
   ]
  },
  {
   "cell_type": "markdown",
   "metadata": {},
   "source": [
    "Ecuación de la temperatura en °F"
   ]
  },
  {
   "cell_type": "code",
   "execution_count": 71,
   "metadata": {},
   "outputs": [],
   "source": [
    "def Tequiv_F(Tambiente, Velocidad):\n",
    "    Tequiv_F = 91.4-(91.4-Tambiente)*0.475-0.0203*Velocidad+0.304*(Velocidad**0.5)\n",
    "    return Tequiv_F\n",
    "\n",
    "def Tequiv_C(Tambiente, Velocidad):\n",
    "    Tequiv_C = (91.4-32)/1.8-((91.4-32)/1.8-(Tambiente-32)/1.8)*0.475-0.0203*(Velocidad*1.609344)+0.304*((Velocidad*1.609344)**0.5)\n",
    "    return Tequiv_C\n"
   ]
  },
  {
   "cell_type": "markdown",
   "metadata": {},
   "source": [
    "Generación de resultados"
   ]
  },
  {
   "cell_type": "code",
   "execution_count": 98,
   "metadata": {},
   "outputs": [],
   "source": [
    "Resultados_F = []\n",
    "Resultados_C = []\n",
    "for Temperatura in Temperaturas:\n",
    "    for Velocidad in Velocidades:\n",
    "        Temp_F = Tequiv_F(Temperatura, Velocidades)\n",
    "        Temp_C = Tequiv_C(Temperatura, Velocidades)\n",
    "    Resultados_F.append(Temp_F)\n",
    "    Resultados_C.append(Temp_C)\n"
   ]
  },
  {
   "cell_type": "markdown",
   "metadata": {},
   "source": [
    "Segmentación de los resultados de acuerdo a la temperatura usada"
   ]
  },
  {
   "cell_type": "code",
   "execution_count": 99,
   "metadata": {},
   "outputs": [],
   "source": [
    "Temperatura_20_F = Resultados_F[0]\n",
    "Temperatura_40_F = Resultados_F[1]\n",
    "Temperatura_60_F = Resultados_F[2]\n",
    "\n",
    "Temperatura_20_C = Resultados_C[0]\n",
    "Temperatura_40_C = Resultados_C[1]\n",
    "Temperatura_60_C = Resultados_C[2]\n"
   ]
  },
  {
   "cell_type": "markdown",
   "metadata": {},
   "source": [
    "Gráficos"
   ]
  },
  {
   "cell_type": "code",
   "execution_count": 114,
   "metadata": {},
   "outputs": [
    {
     "data": {
      "text/plain": [
       "<function matplotlib.pyplot.show(close=None, block=None)>"
      ]
     },
     "execution_count": 114,
     "metadata": {},
     "output_type": "execute_result"
    },
    {
     "data": {
      "image/png": "[encoded data removed]",
      "text/plain": [
       "<Figure size 432x288 with 1 Axes>"
      ]
     },
     "metadata": {
      "needs_background": "light"
     },
     "output_type": "display_data"
    }
   ],
   "source": [
    "plt.plot(Velocidades, Temperatura_20_F)\n",
    "plt.plot(Velocidades, Temperatura_40_F)\n",
    "plt.plot(Velocidades, Temperatura_60_F)\n",
    "plt.xlabel('Velocidad (mi/h)')\n",
    "plt.ylabel('Temperatura °F')\n",
    "plt.show"
   ]
  },
  {
   "cell_type": "code",
   "execution_count": 101,
   "metadata": {},
   "outputs": [
    {
     "data": {
      "text/plain": [
       "<function matplotlib.pyplot.show(close=None, block=None)>"
      ]
     },
     "execution_count": 101,
     "metadata": {},
     "output_type": "execute_result"
    },
    {
     "data": {
      "image/png": "[encoded data removed]",
      "text/plain": [
       "<Figure size 432x288 with 1 Axes>"
      ]
     },
     "metadata": {
      "needs_background": "light"
     },
     "output_type": "display_data"
    }
   ],
   "source": [
    "\n",
    "plt.plot(Velocidades*1.609344, Temperatura_20_C)\n",
    "plt.plot(Velocidades*1.609344, Temperatura_40_C)\n",
    "plt.plot(Velocidades*1.609344, Temperatura_60_C)\n",
    "plt.xlabel('Velocidad (km/h)')\n",
    "plt.ylabel('Temperatura °C')\n",
    "plt.show"
   ]
  }
 ],
 "metadata": {
  "interpreter": {
   "hash": "26de051ba29f2982a8de78e945f0abaf191376122a1563185a90213a26c5da77"
  },
  "kernelspec": {
   "display_name": "Python 3.10.0 64-bit",
   "language": "python",
   "name": "python3"
  },
  "language_info": {
   "codemirror_mode": {
    "name": "ipython",
    "version": 3
   },
   "file_extension": ".py",
   "mimetype": "text/x-python",
   "name": "python",
   "nbconvert_exporter": "python",
   "pygments_lexer": "ipython3",
   "version": "3.10.0"
  },
  "orig_nbformat": 4
 },
 "nbformat": 4,
 "nbformat_minor": 2
}
