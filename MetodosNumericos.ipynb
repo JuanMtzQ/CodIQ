{
 "cells": [
  {
   "cell_type": "markdown",
   "metadata": {},
   "source": [
    " ## Método de bisección"
   ]
  },
  {
   "cell_type": "markdown",
   "metadata": {},
   "source": [
    "Corresponde a los métodos cerrados, pues requiere que se establezca dos limites $x_i$ y $x_f$ donde se encuentre la raiz de la función $f(x)$\n",
    "En general, si $f(x)$ es real y continua en el intervalo que va desde $x_i$ y $x_f$ y se cumple que $f(x_i)$ y $f(x_f)$ tienen signos opuestos, es decir: \n",
    "$$f(a)f(b) < 0$$\n",
    "Se dice que existe al menos un raiz entre el intervalo establecido\n",
    "La aproximación de la raiz se determina mediante el siguiente criterio: $$x_n = \\frac{x_i + x_f}{2}$$\n",
    "Con este valor, se calcula un nuevo valor de la función $f(x_n)$, cuyo resultado puede cambiar de signo. Con esto, se realiza el siguiente analisis: \n",
    "- Si $f(x_i)f(x_n) < 0$, la raiz se encuentra dentro del intervalo $[x_i, x_n]$, por lo tanto ahora el nuevo valor de $x_f$ sera $x_n$ $$x_f = x_n$$\n",
    "- Si $f(x_i)f(x_n) > 0$, la raiz se encuentra dentro del intervalo $[x_n, x_f]$, por lo tanto ahora el nuevo valor de $x_i$ sera $x_n$ $$x_i = x_n$$\n",
    "- Si $f(x_i)f(x_n) = 0$, la raiz es igual a $x_n$ y se termina el cálculo\n",
    "\n",
    "![Procedimiento gráfico del método de bisección](\\Imagenes\\Regla_Falsa.png)\n"
   ]
  },
  {
   "cell_type": "code",
   "execution_count": 4,
   "metadata": {},
   "outputs": [],
   "source": [
    "import matplotlib.pyplot as plt"
   ]
  },
  {
   "cell_type": "code",
   "execution_count": 5,
   "metadata": {},
   "outputs": [
    {
     "name": "stdout",
     "output_type": "stream",
     "text": [
      "(0.0, -4.0)\n",
      "iteración: 1 \n",
      " Valor de x: -5.5\n",
      " Valor de f: 8.25\n",
      "iteración: 2 \n",
      " Valor de x: -3.25\n",
      " Valor de f: -2.4375\n",
      "iteración: 3 \n",
      " Valor de x: -4.375\n",
      " Valor de f: 1.6406\n",
      "iteración: 4 \n",
      " Valor de x: -3.8125\n",
      " Valor de f: -0.7148\n",
      "iteración: 5 \n",
      " Valor de x: -4.0938\n",
      " Valor de f: 0.3838\n",
      "iteración: 6 \n",
      " Valor de x: -3.9531\n",
      " Valor de f: -0.1853\n",
      "iteración: 7 \n",
      " Valor de x: -4.0234\n",
      " Valor de f: 0.0943\n",
      "iteración: 8 \n",
      " Valor de x: -3.9883\n",
      " Valor de f: -0.0467\n",
      "iteración: 9 \n",
      " Valor de x: -4.0059\n",
      " Valor de f: 0.0235\n",
      "iteración: 10 \n",
      " Valor de x: -3.9971\n",
      " Valor de f: -0.0117\n",
      "iteración: 11 \n",
      " Valor de x: -4.0015\n",
      " Valor de f: 0.0059\n",
      "iteración: 12 \n",
      " Valor de x: -3.9993\n",
      " Valor de f: -0.0029\n",
      "iteración: 13 \n",
      " Valor de x: -4.0004\n",
      " Valor de f: 0.0015\n",
      "iteración: 14 \n",
      " Valor de x: -3.9998\n",
      " Valor de f: -0.0007\n",
      "iteración: 15 \n",
      " Valor de x: -4.0001\n",
      " Valor de f: 0.0004\n",
      "iteración: 16 \n",
      " Valor de x: -4.0\n",
      " Valor de f: -0.0002\n",
      "iteración: 17 \n",
      " Valor de x: -4.0\n",
      " Valor de f: 0.0001\n",
      "La raiz es: -4.0\n"
     ]
    },
    {
     "data": {
      "image/png": "[encoded data removed]",
      "text/plain": [
       "<Figure size 432x288 with 1 Axes>"
      ]
     },
     "metadata": {
      "needs_background": "light"
     },
     "output_type": "display_data"
    }
   ],
   "source": [
    "#Evaluación de la función x^2+4x=0\n",
    "#Formula general\n",
    "a = 1\n",
    "b = 4\n",
    "c = 0\n",
    "\n",
    "#Raices\n",
    "x1 = (-b+((b**2)-4*a*c)**0.5)/(2*a)\n",
    "x2 = (-b-((b**2)-4*a*c)**0.5)/(2*a)\n",
    "raices = (x1, x2)\n",
    "print(raices)\n",
    "\n",
    "ax = -10\n",
    "bx = -1\n",
    "i = 0 #Contador\n",
    "\n",
    "#Criterio de convergencia\n",
    "f = 10 #Valor grande\n",
    "x = 10 #Valor aleatorio\n",
    "while (f >= 0.0001) or (f <= -0.0001):\n",
    "    fax = ax**2 + 4*ax\n",
    "    fbx = bx**2 + 4*bx\n",
    "    x = (ax + bx)/2\n",
    "    f = x**2 + 4*x\n",
    "    i = i + 1 \n",
    "    if fax*f<0:\n",
    "        bx = x\n",
    "    if fbx*f<0:\n",
    "        ax = x\n",
    "    print(f'iteración: {i} \\n Valor de x: {round(x, 4)}\\n Valor de f: {round(f, 4)}')\n",
    "    plt.scatter(x, f)\n",
    "print(f'La raiz es: {round(x, 4)}')\n",
    "plt.show()\n",
    "\n"
   ]
  },
  {
   "cell_type": "markdown",
   "metadata": {},
   "source": [
    "Método Newton-Raphson\n",
    "Requiere establecer un punto inicial de analisis. Dependiendo de donde se encuentre dicho punto, la convergencia puede ser para una raíz u otra"
   ]
  },
  {
   "cell_type": "code",
   "execution_count": 6,
   "metadata": {},
   "outputs": [
    {
     "name": "stdout",
     "output_type": "stream",
     "text": [
      "iteración: 1 \n",
      " Valor de x: -4.0 \n",
      " Valor de f: -0.0002\n",
      "iteración: 2 \n",
      " Valor de x: -4.0 \n",
      " Valor de f: 0.0\n",
      "La raiz es: -4.0\n"
     ]
    },
    {
     "data": {
      "image/png": "[encoded data removed]",
      "text/plain": [
       "<Figure size 432x288 with 1 Axes>"
      ]
     },
     "metadata": {
      "needs_background": "light"
     },
     "output_type": "display_data"
    }
   ],
   "source": [
    "x0 = bx\n",
    "i = 0\n",
    "f = 1\n",
    "while (f >= 0.0001) or (f <= -0.0001):\n",
    "    f = x0**2 + 4*x0\n",
    "    df = 2*x0 + 4\n",
    "    x = x0 - (f/df)\n",
    "    i = i + 1\n",
    "    print(f'iteración: {i} \\n Valor de x: {round(x, 4)} \\n Valor de f: {round(f, 4)}')\n",
    "    x0 = x\n",
    "    plt.scatter(x, f)\n",
    "\n",
    "print(f'La raiz es: {round(x, 4)}')\n",
    "plt.show()"
   ]
  },
  {
   "cell_type": "markdown",
   "metadata": {},
   "source": [
    "Método de regla falsa"
   ]
  },
  {
   "cell_type": "markdown",
   "metadata": {},
   "source": [
    " $x_n = fracc{f(b)*a - f(a)*b}{f(b) - f(a)}$\n",
    "\n",
    " cumpliendo con \n",
    " $$f(a)\\bullet f(b) < 0$$"
   ]
  },
  {
   "cell_type": "markdown",
   "metadata": {},
   "source": [
    "En base a nuestra función, determina la pendiente a un punto $x_n$. Posteriormente, corta sobre dicho punto y vuelve a repertir el proceso, obteniendo un nuevo punto $x_n$"
   ]
  },
  {
   "cell_type": "code",
   "execution_count": 7,
   "metadata": {},
   "outputs": [],
   "source": [
    "#Nuestra funcion f(x) = x**2 + 4*x\n",
    "def funcion(x):\n",
    "    return x**2 + 4*x "
   ]
  },
  {
   "cell_type": "code",
   "execution_count": 8,
   "metadata": {},
   "outputs": [
    {
     "name": "stdout",
     "output_type": "stream",
     "text": [
      "Iteración: 1 \n",
      " x = -1.25 \n",
      " f = -3.4375\n",
      "Iteración: 2 \n",
      " x = -1.5306 \n",
      " f = -3.7797\n",
      "Iteración: 3 \n",
      " x = -1.8322 \n",
      " f = -3.9719\n",
      "Iteración: 4 \n",
      " x = -2.1418 \n",
      " f = -3.9799\n",
      "Iteración: 5 \n",
      " x = -2.4446 \n",
      " f = -3.8023\n",
      "Iteración: 6 \n",
      " x = -2.7274 \n",
      " f = -3.4709\n",
      "Iteración: 7 \n",
      " x = -2.9803 \n",
      " f = -3.0391\n",
      "Iteración: 8 \n",
      " x = -3.1977 \n",
      " f = -2.5656\n",
      "Iteración: 9 \n",
      " x = -3.3784 \n",
      " f = -2.1001\n",
      "Iteración: 10 \n",
      " x = -3.5244 \n",
      " f = -1.6761\n",
      "Iteración: 11 \n",
      " x = -3.6398 \n",
      " f = -1.311\n",
      "Iteración: 12 \n",
      " x = -3.7294 \n",
      " f = -1.0093\n",
      "Iteración: 13 \n",
      " x = -3.7979 \n",
      " f = -0.7676\n",
      "Iteración: 14 \n",
      " x = -3.8498 \n",
      " f = -0.5784\n",
      "Iteración: 15 \n",
      " x = -3.8887 \n",
      " f = -0.4328\n",
      "Iteración: 16 \n",
      " x = -3.9178 \n",
      " f = -0.3221\n",
      "Iteración: 17 \n",
      " x = -3.9394 \n",
      " f = -0.2388\n",
      "Iteración: 18 \n",
      " x = -3.9554 \n",
      " f = -0.1766\n",
      "Iteración: 19 \n",
      " x = -3.9672 \n",
      " f = -0.1303\n",
      "Iteración: 20 \n",
      " x = -3.9759 \n",
      " f = -0.0959\n",
      "Iteración: 21 \n",
      " x = -3.9823 \n",
      " f = -0.0706\n",
      "Iteración: 22 \n",
      " x = -3.987 \n",
      " f = -0.0519\n",
      "Iteración: 23 \n",
      " x = -3.9904 \n",
      " f = -0.0381\n",
      "Iteración: 24 \n",
      " x = -3.993 \n",
      " f = -0.028\n",
      "Iteración: 25 \n",
      " x = -3.9949 \n",
      " f = -0.0205\n",
      "Iteración: 26 \n",
      " x = -3.9962 \n",
      " f = -0.0151\n",
      "Iteración: 27 \n",
      " x = -3.9972 \n",
      " f = -0.0111\n",
      "Iteración: 28 \n",
      " x = -3.998 \n",
      " f = -0.0081\n",
      "Iteración: 29 \n",
      " x = -3.9985 \n",
      " f = -0.006\n",
      "Iteración: 30 \n",
      " x = -3.9989 \n",
      " f = -0.0044\n",
      "Iteración: 31 \n",
      " x = -3.9992 \n",
      " f = -0.0032\n",
      "Iteración: 32 \n",
      " x = -3.9994 \n",
      " f = -0.0023\n",
      "Iteración: 33 \n",
      " x = -3.9996 \n",
      " f = -0.0017\n",
      "Iteración: 34 \n",
      " x = -3.9997 \n",
      " f = -0.0013\n",
      "Iteración: 35 \n",
      " x = -3.9998 \n",
      " f = -0.0009\n",
      "Iteración: 36 \n",
      " x = -3.9998 \n",
      " f = -0.0007\n",
      "Iteración: 37 \n",
      " x = -3.9999 \n",
      " f = -0.0005\n",
      "Iteración: 38 \n",
      " x = -3.9999 \n",
      " f = -0.0004\n",
      "Iteración: 39 \n",
      " x = -3.9999 \n",
      " f = -0.0003\n",
      "Iteración: 40 \n",
      " x = -4.0 \n",
      " f = -0.0002\n",
      "Iteración: 41 \n",
      " x = -4.0 \n",
      " f = -0.0001\n",
      "Iteración: 42 \n",
      " x = -4.0 \n",
      " f = -0.0001\n",
      "Iteración: 43 \n",
      " x = -4.0 \n",
      " f = -0.0001\n"
     ]
    },
    {
     "data": {
      "image/png": "[encoded data removed]",
      "text/plain": [
       "<Figure size 432x288 with 1 Axes>"
      ]
     },
     "metadata": {
      "needs_background": "light"
     },
     "output_type": "display_data"
    }
   ],
   "source": [
    "a = -15 #Conforme se aleja del valor, más iteraciones realiza\n",
    "b = -1\n",
    "tolerancia = 10\n",
    "i = 0\n",
    "while (tolerancia >= 0.0001) or (tolerancia <= -0.0001): \n",
    "    xn = (funcion(b)*a - funcion(a)*b) / (funcion(b) - funcion(a))\n",
    "    if funcion(a)*funcion(xn) < 0: \n",
    "        b = xn\n",
    "    if funcion(b)*funcion(xn) < 0: \n",
    "        a = xn\n",
    "    i = i + 1\n",
    "    print(f'Iteración: {i} \\n x = {round(xn, 4)} \\n f = {round(funcion(xn), 4)}')\n",
    "    tolerancia = funcion(xn)\n",
    "    plt.scatter(xn, funcion(xn))\n",
    "plt.show()"
   ]
  },
  {
   "cell_type": "markdown",
   "metadata": {},
   "source": [
    "Actividad. Utilizar funciones en el metodo de bisección y Newton-Raphson"
   ]
  },
  {
   "cell_type": "markdown",
   "metadata": {},
   "source": [
    "Utilizacion de Matplotlib"
   ]
  },
  {
   "cell_type": "code",
   "execution_count": 9,
   "metadata": {},
   "outputs": [
    {
     "data": {
      "text/plain": [
       "27"
      ]
     },
     "execution_count": 9,
     "metadata": {},
     "output_type": "execute_result"
    }
   ],
   "source": [
    "def f(valor): \n",
    "    Resultado = x**3\n",
    "    return Resultado\n",
    "\n",
    "x = 3 \n",
    "f(x)"
   ]
  },
  {
   "cell_type": "code",
   "execution_count": 10,
   "metadata": {},
   "outputs": [
    {
     "data": {
      "text/plain": [
       "64"
      ]
     },
     "execution_count": 10,
     "metadata": {},
     "output_type": "execute_result"
    }
   ],
   "source": [
    "x = 4\n",
    "f(x)"
   ]
  },
  {
   "cell_type": "code",
   "execution_count": 11,
   "metadata": {},
   "outputs": [
    {
     "name": "stdout",
     "output_type": "stream",
     "text": [
      "[ 4 10 18] [0.25 0.4  0.5 ] 1.15\n"
     ]
    }
   ],
   "source": [
    "import numpy as np\n",
    "A = np.array([1,2,3])\n",
    "B = np.array([4,5,6])\n",
    "C = A*B\n",
    "D = A/B\n",
    "F = sum(D)\n",
    "print(C, D, F)"
   ]
  },
  {
   "cell_type": "markdown",
   "metadata": {},
   "source": [
    "# Integraciones"
   ]
  },
  {
   "cell_type": "markdown",
   "metadata": {},
   "source": [
    "## Método de Simpson 1/3"
   ]
  },
  {
   "cell_type": "code",
   "execution_count": 12,
   "metadata": {},
   "outputs": [
    {
     "name": "stdout",
     "output_type": "stream",
     "text": [
      "La integral es: 1722.3092\n"
     ]
    }
   ],
   "source": [
    "import math\n",
    "\n",
    "def f(x):\n",
    "    return math.exp(x**2)\n",
    "\n",
    "a = 0 #Limite inferior\n",
    "b = 3 #Limite superior\n",
    "h = 0.5 #Tamaño de paso\n",
    "n = (b-a)/h #Pasos\n",
    "\n",
    "\n",
    "x = []\n",
    "\n",
    "#Metodo \n",
    "#Se coloca entero para evitar el error de flotante\n",
    "for j in range(0, int(n+1)):\n",
    "    x.append(a+h*j)\n",
    "\n",
    "ni = int(n/2)\n",
    "s = 0\n",
    "\n",
    "\n",
    "#Inicializamos en el valor de 1 para evitar que, matematicamente\n",
    "# no nos encontremos con un valor inexistente\n",
    "for j in range(1, ni+1): \n",
    "    s = s + f(x[2*j-2]) + 4*f(x[2*j-1]) + f(x[2*j])\n",
    "\n",
    "Integral = h/3*s\n",
    "print(f\"La integral es: {round(Integral, 4)}\")\n"
   ]
  },
  {
   "cell_type": "markdown",
   "metadata": {},
   "source": [
    "# Resolución de un sistema de ecuaciones"
   ]
  },
  {
   "cell_type": "markdown",
   "metadata": {},
   "source": [
    "Con Python podemos resolver un sistema de ecuaciones mediante el uso de matrices. Dado que el lenguaje no posee la posibilidad de manejar matrices con su \"codigo base\", es necesario importar [Numpy](https://numpy.org/), libreria de cálculo númerico. Para ello, hacemos uso de la siguiente linea de codigo:"
   ]
  },
  {
   "cell_type": "code",
   "execution_count": 13,
   "metadata": {},
   "outputs": [],
   "source": [
    "import numpy as np"
   ]
  },
  {
   "cell_type": "markdown",
   "metadata": {},
   "source": [
    "En nuestro caso, vamos a resolver el problema 9.12 del libro _Métodos numericos para ingenieros_\n",
    "![Problema 9.12](\\Imagenes\\9.12_Chapra.png)"
   ]
  },
  {
   "cell_type": "code",
   "execution_count": 14,
   "metadata": {},
   "outputs": [],
   "source": [
    "#Creamos una matriz que contenga los coeficientes \n",
    "#del sistema de ecuaciones\n",
    "coeficientes = np.array([ [2,1,-1], [5, 2, 2], [3, 1, 1] ])\n",
    "\n",
    "#Creamos una matriz con los resultados correspondientes\n",
    "resultados = np.array([1, -4, 5])\n",
    "\n",
    "#Utilizamos np.linalg.solve para encontrar la solución \n",
    "x = np.linalg.solve(coeficientes, resultados)"
   ]
  },
  {
   "cell_type": "markdown",
   "metadata": {},
   "source": [
    "Resultados"
   ]
  },
  {
   "cell_type": "code",
   "execution_count": 15,
   "metadata": {},
   "outputs": [
    {
     "name": "stdout",
     "output_type": "stream",
     "text": [
      "\n",
      "La solución del sistema es: \n",
      "    x1 = 14.0 \n",
      "    x2 = -32.0\n",
      "    x3 = -5.0\n"
     ]
    }
   ],
   "source": [
    "print(f\"\"\"\n",
    "La solución del sistema es: \n",
    "    x1 = {round(x[0], 2)} \n",
    "    x2 = {round(x[1], 2)}\n",
    "    x3 = {round(x[2], 2)}\"\"\")"
   ]
  },
  {
   "cell_type": "markdown",
   "metadata": {},
   "source": [
    "# Solución de ecuaciones diferenciales "
   ]
  },
  {
   "cell_type": "markdown",
   "metadata": {},
   "source": [
    "## Runge - Koutta de 4to orden"
   ]
  },
  {
   "cell_type": "markdown",
   "metadata": {},
   "source": [
    "\n",
    "![Ecuaciones del método de Runge-Kutta de 4to orden](\\Imagenes\\Ecuaciones_Runge_Kutta_4to.png)"
   ]
  },
  {
   "cell_type": "code",
   "execution_count": 16,
   "metadata": {},
   "outputs": [
    {
     "data": {
      "text/plain": [
       "<function matplotlib.pyplot.show(close=None, block=None)>"
      ]
     },
     "execution_count": 16,
     "metadata": {},
     "output_type": "execute_result"
    },
    {
     "data": {
      "image/png": "[encoded data removed]",
      "text/plain": [
       "<Figure size 432x288 with 1 Axes>"
      ]
     },
     "metadata": {
      "needs_background": "light"
     },
     "output_type": "display_data"
    }
   ],
   "source": [
    "#Definimos una función que nos arroje la operación x^2 - 3y\n",
    "def f(x, y): \n",
    "    return x**2 - 3*y\n",
    "\n",
    "#Valores limites\n",
    "a = 0\n",
    "c = 4\n",
    "\n",
    "#Número de segmentos a evaluar\n",
    "n = 1000 #No importa si es par o impar\n",
    "\n",
    "#Tamaño de paso\n",
    "h = (c-a)/n\n",
    "\n",
    "#Resultados\n",
    "x = []\n",
    "y = []\n",
    "\n",
    "#Cuando x = 0, y = 1 \n",
    "x.append(0)\n",
    "y.append(1)\n",
    "\n",
    "\n",
    "for i in range(0, n):\n",
    "    k1 = f(x[i], y[i])\n",
    "    k2 = f(x[i] + h/2, y[i] + k1/2)\n",
    "    k3 = f(x[i] + h/2, y[i] + k2/2)\n",
    "    k4 = f(x[i] + h, y[i] + k3)\n",
    "    y.append(y[i] + h/6*(k1+ 2*k2 + 2*k3 + k4))\n",
    "    x.append(x[i] + h)\n",
    "\n",
    "#Grafico para visualizar el comportamiento\n",
    "plt.scatter(x,y)\n",
    "plt.show\n"
   ]
  },
  {
   "cell_type": "markdown",
   "metadata": {},
   "source": [
    "Una vez obtenidos nuestros valores, es necesario aplicar un ajuste de parametros con el fin de encontrar una ecuacion que nos describa el comportamiento observado. Dicha ecuacion será la solución para nuestra ecuación diferencial"
   ]
  }
 ],
 "metadata": {
  "interpreter": {
   "hash": "b89b5cfaba6639976dc87ff2fec6d58faec662063367e2c229c520fe71072417"
  },
  "kernelspec": {
   "display_name": "Python 3.10.0 64-bit",
   "language": "python",
   "name": "python3"
  },
  "language_info": {
   "codemirror_mode": {
    "name": "ipython",
    "version": 3
   },
   "file_extension": ".py",
   "mimetype": "text/x-python",
   "name": "python",
   "nbconvert_exporter": "python",
   "pygments_lexer": "ipython3",
   "version": "3.10.0"
  },
  "orig_nbformat": 4
 },
 "nbformat": 4,
 "nbformat_minor": 2
}
