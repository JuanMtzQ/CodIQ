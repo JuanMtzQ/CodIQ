{
 "cells": [
  {
   "cell_type": "code",
   "execution_count": 1,
   "metadata": {},
   "outputs": [],
   "source": [
    "import numpy as np\n"
   ]
  },
  {
   "cell_type": "markdown",
   "metadata": {},
   "source": [
    "Operadores logicos"
   ]
  },
  {
   "cell_type": "code",
   "execution_count": 14,
   "metadata": {},
   "outputs": [],
   "source": [
    "a = 3 \n",
    "b = 3\n",
    "c = 4"
   ]
  },
  {
   "cell_type": "code",
   "execution_count": 12,
   "metadata": {},
   "outputs": [
    {
     "name": "stdout",
     "output_type": "stream",
     "text": [
      "Los valores ordenados son: 2, 3, 4\n"
     ]
    }
   ],
   "source": [
    "if (a < b) & (b < c): \n",
    "    print(f'Los valores ordenados son: {a}, {b}, {c}')\n",
    "if (b < c) & (c < a): \n",
    "    print(f'Los valores ordenados son: {a}, {b}, {c}')\n",
    "if (c < a) & (b < a): \n",
    "    print(f'Los valores ordenados son: {c}, {b}, {a}')\n",
    "if (a < c) & (c < b): \n",
    "    print(f'Los valores ordenados son: {c}, {b}, {a}')\n",
    "if (b < a) & (a < c): \n",
    "    print(f'Los valores ordenados son: {c}, {b}, {a}')\n",
    "if (c < a) & (a < b): \n",
    "    print(f'Los valores ordenados son: {c}, {a}, {b}')"
   ]
  },
  {
   "cell_type": "code",
   "execution_count": 15,
   "metadata": {},
   "outputs": [
    {
     "name": "stdout",
     "output_type": "stream",
     "text": [
      "Existe una condición de igualdad entre los números comparados\n"
     ]
    }
   ],
   "source": [
    "if (c < a) & (a < b): \n",
    "    print(f'Los valores ordenados son: {c}, {a}, {b}') \n",
    "else: \n",
    "    print('Existe una condición de igualdad entre los números comparados')\n",
    "    if (c == a) or (b == a) or (c == b):\n",
    "    print('Existe una condición de igualdad entre los números comparados')\n",
    "    "
   ]
  },
  {
   "cell_type": "markdown",
   "metadata": {},
   "source": [
    "Actividad: reportar los número iguales entre ellos"
   ]
  },
  {
   "cell_type": "code",
   "execution_count": 17,
   "metadata": {},
   "outputs": [
    {
     "name": "stdout",
     "output_type": "stream",
     "text": [
      "Existe una condición de igualdad entre los números comparados\n",
      "la variable b es igual a la variable a\n"
     ]
    }
   ],
   "source": [
    "if (c == a) or (b == a) or (c == b):\n",
    "    print('Existe una condición de igualdad entre los números comparados')\n",
    "    if (c == a): \n",
    "        print('la variable c es igual a la variable a')\n",
    "    elif (b == a): \n",
    "        print('la variable b es igual a la variable a')\n",
    "    else: \n",
    "        print('la variable c es igual a la variable b')\n"
   ]
  },
  {
   "cell_type": "markdown",
   "metadata": {},
   "source": [
    "Calculadora en python"
   ]
  },
  {
   "cell_type": "code",
   "execution_count": 2,
   "metadata": {},
   "outputs": [
    {
     "name": "stdout",
     "output_type": "stream",
     "text": [
      "-0.07462686567164178\n"
     ]
    }
   ],
   "source": [
    "operacion = input('Escoge la operación que deseas realizar: +, -, *, /')\n",
    "if operacion == '+':\n",
    "    a = float(input('Ingrese el primer valor a sumar: '))\n",
    "    b = float(input('Ingrese el segundo valor a sumar: '))\n",
    "    print(a + b)\n",
    "if operacion == '-':\n",
    "    a = float(input('Ingrese el primer valor a restar: '))\n",
    "    b = float(input('Ingrese el segundo valor a restar: '))\n",
    "    print(a - b)\n",
    "if operacion == '*':\n",
    "    a = float(input('Ingrese el primer valor a multiplicar: '))\n",
    "    b = float(input('Ingrese el segundo valor a multiplicar: '))\n",
    "    print(a * b)\n",
    "if operacion == '/':\n",
    "    a = float(input('Ingrese el numerador: '))\n",
    "    b = float(input('Ingrese el denominador: '))\n",
    "    print(a / b)\n",
    "else:\n",
    "    print('Ingrese una operación valida')\n",
    "\n"
   ]
  },
  {
   "cell_type": "markdown",
   "metadata": {},
   "source": [
    "¿Número par o impar? "
   ]
  },
  {
   "cell_type": "code",
   "execution_count": 13,
   "metadata": {},
   "outputs": [
    {
     "name": "stdout",
     "output_type": "stream",
     "text": [
      "El numero es impar\n"
     ]
    }
   ],
   "source": [
    "numero = float(input('Ingrese un numero: '))\n",
    "if numero % 2 == 0: \n",
    "    print('El numero es par')\n",
    "else:\n",
    "    print('El numero es impar')"
   ]
  }
 ],
 "metadata": {
  "interpreter": {
   "hash": "72143a8373dfb89d5c6826e2ca2f259db77465cfe5e6299e63e9a6f835c954b9"
  },
  "kernelspec": {
   "display_name": "Python 3.10.2 64-bit (windows store)",
   "language": "python",
   "name": "python3"
  },
  "language_info": {
   "codemirror_mode": {
    "name": "ipython",
    "version": 3
   },
   "file_extension": ".py",
   "mimetype": "text/x-python",
   "name": "python",
   "nbconvert_exporter": "python",
   "pygments_lexer": "ipython3",
   "version": "3.10.0"
  },
  "orig_nbformat": 4
 },
 "nbformat": 4,
 "nbformat_minor": 2
}
